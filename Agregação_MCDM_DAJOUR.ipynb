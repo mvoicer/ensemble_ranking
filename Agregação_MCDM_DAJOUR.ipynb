{
  "cells": [
    {
      "cell_type": "markdown",
      "metadata": {
        "id": "JavNLu368tNX"
      },
      "source": [
        "# Libraries"
      ]
    },
    {
      "cell_type": "code",
      "execution_count": null,
      "metadata": {
        "id": "QOW9MyuxFZJC"
      },
      "outputs": [],
      "source": [
        "import numpy as np\n",
        "import pandas as pd"
      ]
    },
    {
      "cell_type": "code",
      "execution_count": null,
      "metadata": {
        "colab": {
          "base_uri": "https://localhost:8080/"
        },
        "id": "0ArMlFmI7HL9",
        "outputId": "2693535f-3e46-41b6-c467-67f1a0734938"
      },
      "outputs": [
        {
          "output_type": "stream",
          "name": "stdout",
          "text": [
            "Collecting pyDecision\n",
            "  Downloading pyDecision-4.3.9-py3-none-any.whl (104 kB)\n",
            "\u001b[?25l     \u001b[90m━━━━━━━━━━━━━━━━━━━━━━━━━━━━━━━━━━━━━━━━\u001b[0m \u001b[32m0.0/104.6 kB\u001b[0m \u001b[31m?\u001b[0m eta \u001b[36m-:--:--\u001b[0m\r\u001b[2K     \u001b[91m━━━━━━━━━━━━━━━━━━━━━━━━━━━━━━━\u001b[0m\u001b[90m╺\u001b[0m\u001b[90m━━━━━━━━\u001b[0m \u001b[32m81.9/104.6 kB\u001b[0m \u001b[31m2.4 MB/s\u001b[0m eta \u001b[36m0:00:01\u001b[0m\r\u001b[2K     \u001b[90m━━━━━━━━━━━━━━━━━━━━━━━━━━━━━━━━━━━━━━━━\u001b[0m \u001b[32m104.6/104.6 kB\u001b[0m \u001b[31m2.1 MB/s\u001b[0m eta \u001b[36m0:00:00\u001b[0m\n",
            "\u001b[?25hRequirement already satisfied: matplotlib in /usr/local/lib/python3.10/dist-packages (from pyDecision) (3.7.1)\n",
            "Requirement already satisfied: numpy in /usr/local/lib/python3.10/dist-packages (from pyDecision) (1.23.5)\n",
            "Requirement already satisfied: llmx in /usr/local/lib/python3.10/dist-packages (from pyDecision) (0.0.15a0)\n",
            "Collecting openai (from pyDecision)\n",
            "  Downloading openai-1.11.1-py3-none-any.whl (226 kB)\n",
            "\u001b[2K     \u001b[90m━━━━━━━━━━━━━━━━━━━━━━━━━━━━━━━━━━━━━━━━\u001b[0m \u001b[32m226.1/226.1 kB\u001b[0m \u001b[31m13.5 MB/s\u001b[0m eta \u001b[36m0:00:00\u001b[0m\n",
            "\u001b[?25hRequirement already satisfied: pandas in /usr/local/lib/python3.10/dist-packages (from pyDecision) (1.5.3)\n",
            "Requirement already satisfied: scikit-learn in /usr/local/lib/python3.10/dist-packages (from pyDecision) (1.2.2)\n",
            "Requirement already satisfied: scipy in /usr/local/lib/python3.10/dist-packages (from pyDecision) (1.11.4)\n",
            "Requirement already satisfied: pydantic in /usr/local/lib/python3.10/dist-packages (from llmx->pyDecision) (2.6.0)\n",
            "Collecting tiktoken (from llmx->pyDecision)\n",
            "  Downloading tiktoken-0.5.2-cp310-cp310-manylinux_2_17_x86_64.manylinux2014_x86_64.whl (2.0 MB)\n",
            "\u001b[2K     \u001b[90m━━━━━━━━━━━━━━━━━━━━━━━━━━━━━━━━━━━━━━━━\u001b[0m \u001b[32m2.0/2.0 MB\u001b[0m \u001b[31m39.1 MB/s\u001b[0m eta \u001b[36m0:00:00\u001b[0m\n",
            "\u001b[?25hRequirement already satisfied: diskcache in /usr/local/lib/python3.10/dist-packages (from llmx->pyDecision) (5.6.3)\n",
            "Collecting cohere (from llmx->pyDecision)\n",
            "  Downloading cohere-4.45-py3-none-any.whl (52 kB)\n",
            "\u001b[2K     \u001b[90m━━━━━━━━━━━━━━━━━━━━━━━━━━━━━━━━━━━━━━━━\u001b[0m \u001b[32m52.1/52.1 kB\u001b[0m \u001b[31m5.2 MB/s\u001b[0m eta \u001b[36m0:00:00\u001b[0m\n",
            "\u001b[?25hRequirement already satisfied: google.auth in /usr/local/lib/python3.10/dist-packages (from llmx->pyDecision) (2.17.3)\n",
            "Requirement already satisfied: typer in /usr/local/lib/python3.10/dist-packages (from llmx->pyDecision) (0.9.0)\n",
            "Requirement already satisfied: pyyaml in /usr/local/lib/python3.10/dist-packages (from llmx->pyDecision) (6.0.1)\n",
            "Requirement already satisfied: contourpy>=1.0.1 in /usr/local/lib/python3.10/dist-packages (from matplotlib->pyDecision) (1.2.0)\n",
            "Requirement already satisfied: cycler>=0.10 in /usr/local/lib/python3.10/dist-packages (from matplotlib->pyDecision) (0.12.1)\n",
            "Requirement already satisfied: fonttools>=4.22.0 in /usr/local/lib/python3.10/dist-packages (from matplotlib->pyDecision) (4.47.2)\n",
            "Requirement already satisfied: kiwisolver>=1.0.1 in /usr/local/lib/python3.10/dist-packages (from matplotlib->pyDecision) (1.4.5)\n",
            "Requirement already satisfied: packaging>=20.0 in /usr/local/lib/python3.10/dist-packages (from matplotlib->pyDecision) (23.2)\n",
            "Requirement already satisfied: pillow>=6.2.0 in /usr/local/lib/python3.10/dist-packages (from matplotlib->pyDecision) (9.4.0)\n",
            "Requirement already satisfied: pyparsing>=2.3.1 in /usr/local/lib/python3.10/dist-packages (from matplotlib->pyDecision) (3.1.1)\n",
            "Requirement already satisfied: python-dateutil>=2.7 in /usr/local/lib/python3.10/dist-packages (from matplotlib->pyDecision) (2.8.2)\n",
            "Requirement already satisfied: anyio<5,>=3.5.0 in /usr/local/lib/python3.10/dist-packages (from openai->pyDecision) (3.7.1)\n",
            "Requirement already satisfied: distro<2,>=1.7.0 in /usr/lib/python3/dist-packages (from openai->pyDecision) (1.7.0)\n",
            "Collecting httpx<1,>=0.23.0 (from openai->pyDecision)\n",
            "  Downloading httpx-0.26.0-py3-none-any.whl (75 kB)\n",
            "\u001b[2K     \u001b[90m━━━━━━━━━━━━━━━━━━━━━━━━━━━━━━━━━━━━━━━━\u001b[0m \u001b[32m75.9/75.9 kB\u001b[0m \u001b[31m8.9 MB/s\u001b[0m eta \u001b[36m0:00:00\u001b[0m\n",
            "\u001b[?25hRequirement already satisfied: sniffio in /usr/local/lib/python3.10/dist-packages (from openai->pyDecision) (1.3.0)\n",
            "Requirement already satisfied: tqdm>4 in /usr/local/lib/python3.10/dist-packages (from openai->pyDecision) (4.66.1)\n",
            "Requirement already satisfied: typing-extensions<5,>=4.7 in /usr/local/lib/python3.10/dist-packages (from openai->pyDecision) (4.9.0)\n",
            "Requirement already satisfied: pytz>=2020.1 in /usr/local/lib/python3.10/dist-packages (from pandas->pyDecision) (2023.4)\n",
            "Requirement already satisfied: joblib>=1.1.1 in /usr/local/lib/python3.10/dist-packages (from scikit-learn->pyDecision) (1.3.2)\n",
            "Requirement already satisfied: threadpoolctl>=2.0.0 in /usr/local/lib/python3.10/dist-packages (from scikit-learn->pyDecision) (3.2.0)\n",
            "Requirement already satisfied: idna>=2.8 in /usr/local/lib/python3.10/dist-packages (from anyio<5,>=3.5.0->openai->pyDecision) (3.6)\n",
            "Requirement already satisfied: exceptiongroup in /usr/local/lib/python3.10/dist-packages (from anyio<5,>=3.5.0->openai->pyDecision) (1.2.0)\n",
            "Requirement already satisfied: certifi in /usr/local/lib/python3.10/dist-packages (from httpx<1,>=0.23.0->openai->pyDecision) (2024.2.2)\n",
            "Collecting httpcore==1.* (from httpx<1,>=0.23.0->openai->pyDecision)\n",
            "  Downloading httpcore-1.0.2-py3-none-any.whl (76 kB)\n",
            "\u001b[2K     \u001b[90m━━━━━━━━━━━━━━━━━━━━━━━━━━━━━━━━━━━━━━━━\u001b[0m \u001b[32m76.9/76.9 kB\u001b[0m \u001b[31m7.7 MB/s\u001b[0m eta \u001b[36m0:00:00\u001b[0m\n",
            "\u001b[?25hCollecting h11<0.15,>=0.13 (from httpcore==1.*->httpx<1,>=0.23.0->openai->pyDecision)\n",
            "  Downloading h11-0.14.0-py3-none-any.whl (58 kB)\n",
            "\u001b[2K     \u001b[90m━━━━━━━━━━━━━━━━━━━━━━━━━━━━━━━━━━━━━━━━\u001b[0m \u001b[32m58.3/58.3 kB\u001b[0m \u001b[31m7.0 MB/s\u001b[0m eta \u001b[36m0:00:00\u001b[0m\n",
            "\u001b[?25hRequirement already satisfied: annotated-types>=0.4.0 in /usr/local/lib/python3.10/dist-packages (from pydantic->llmx->pyDecision) (0.6.0)\n",
            "Requirement already satisfied: pydantic-core==2.16.1 in /usr/local/lib/python3.10/dist-packages (from pydantic->llmx->pyDecision) (2.16.1)\n",
            "Requirement already satisfied: six>=1.5 in /usr/local/lib/python3.10/dist-packages (from python-dateutil>=2.7->matplotlib->pyDecision) (1.16.0)\n",
            "Requirement already satisfied: aiohttp<4.0,>=3.0 in /usr/local/lib/python3.10/dist-packages (from cohere->llmx->pyDecision) (3.9.3)\n",
            "Collecting backoff<3.0,>=2.0 (from cohere->llmx->pyDecision)\n",
            "  Downloading backoff-2.2.1-py3-none-any.whl (15 kB)\n",
            "Collecting fastavro<2.0,>=1.8 (from cohere->llmx->pyDecision)\n",
            "  Downloading fastavro-1.9.3-cp310-cp310-manylinux_2_17_x86_64.manylinux2014_x86_64.whl (3.1 MB)\n",
            "\u001b[2K     \u001b[90m━━━━━━━━━━━━━━━━━━━━━━━━━━━━━━━━━━━━━━━━\u001b[0m \u001b[32m3.1/3.1 MB\u001b[0m \u001b[31m70.6 MB/s\u001b[0m eta \u001b[36m0:00:00\u001b[0m\n",
            "\u001b[?25hCollecting importlib_metadata<7.0,>=6.0 (from cohere->llmx->pyDecision)\n",
            "  Downloading importlib_metadata-6.11.0-py3-none-any.whl (23 kB)\n",
            "Requirement already satisfied: requests<3.0.0,>=2.25.0 in /usr/local/lib/python3.10/dist-packages (from cohere->llmx->pyDecision) (2.31.0)\n",
            "Requirement already satisfied: urllib3<3,>=1.26 in /usr/local/lib/python3.10/dist-packages (from cohere->llmx->pyDecision) (2.0.7)\n",
            "Requirement already satisfied: cachetools<6.0,>=2.0.0 in /usr/local/lib/python3.10/dist-packages (from google.auth->llmx->pyDecision) (5.3.2)\n",
            "Requirement already satisfied: pyasn1-modules>=0.2.1 in /usr/local/lib/python3.10/dist-packages (from google.auth->llmx->pyDecision) (0.3.0)\n",
            "Requirement already satisfied: rsa<5,>=3.1.4 in /usr/local/lib/python3.10/dist-packages (from google.auth->llmx->pyDecision) (4.9)\n",
            "Requirement already satisfied: regex>=2022.1.18 in /usr/local/lib/python3.10/dist-packages (from tiktoken->llmx->pyDecision) (2023.12.25)\n",
            "Requirement already satisfied: click<9.0.0,>=7.1.1 in /usr/local/lib/python3.10/dist-packages (from typer->llmx->pyDecision) (8.1.7)\n",
            "Requirement already satisfied: aiosignal>=1.1.2 in /usr/local/lib/python3.10/dist-packages (from aiohttp<4.0,>=3.0->cohere->llmx->pyDecision) (1.3.1)\n",
            "Requirement already satisfied: attrs>=17.3.0 in /usr/local/lib/python3.10/dist-packages (from aiohttp<4.0,>=3.0->cohere->llmx->pyDecision) (23.2.0)\n",
            "Requirement already satisfied: frozenlist>=1.1.1 in /usr/local/lib/python3.10/dist-packages (from aiohttp<4.0,>=3.0->cohere->llmx->pyDecision) (1.4.1)\n",
            "Requirement already satisfied: multidict<7.0,>=4.5 in /usr/local/lib/python3.10/dist-packages (from aiohttp<4.0,>=3.0->cohere->llmx->pyDecision) (6.0.5)\n",
            "Requirement already satisfied: yarl<2.0,>=1.0 in /usr/local/lib/python3.10/dist-packages (from aiohttp<4.0,>=3.0->cohere->llmx->pyDecision) (1.9.4)\n",
            "Requirement already satisfied: async-timeout<5.0,>=4.0 in /usr/local/lib/python3.10/dist-packages (from aiohttp<4.0,>=3.0->cohere->llmx->pyDecision) (4.0.3)\n",
            "Requirement already satisfied: zipp>=0.5 in /usr/local/lib/python3.10/dist-packages (from importlib_metadata<7.0,>=6.0->cohere->llmx->pyDecision) (3.17.0)\n",
            "Requirement already satisfied: pyasn1<0.6.0,>=0.4.6 in /usr/local/lib/python3.10/dist-packages (from pyasn1-modules>=0.2.1->google.auth->llmx->pyDecision) (0.5.1)\n",
            "Requirement already satisfied: charset-normalizer<4,>=2 in /usr/local/lib/python3.10/dist-packages (from requests<3.0.0,>=2.25.0->cohere->llmx->pyDecision) (3.3.2)\n",
            "Installing collected packages: importlib_metadata, h11, fastavro, backoff, tiktoken, httpcore, httpx, cohere, openai, pyDecision\n",
            "  Attempting uninstall: importlib_metadata\n",
            "    Found existing installation: importlib-metadata 7.0.1\n",
            "    Uninstalling importlib-metadata-7.0.1:\n",
            "      Successfully uninstalled importlib-metadata-7.0.1\n",
            "Successfully installed backoff-2.2.1 cohere-4.45 fastavro-1.9.3 h11-0.14.0 httpcore-1.0.2 httpx-0.26.0 importlib_metadata-6.11.0 openai-1.11.1 pyDecision-4.3.9 tiktoken-0.5.2\n"
          ]
        }
      ],
      "source": [
        "!pip install pyDecision"
      ]
    },
    {
      "cell_type": "code",
      "execution_count": null,
      "metadata": {
        "colab": {
          "base_uri": "https://localhost:8080/"
        },
        "id": "k4gZQ3nG6RIY",
        "outputId": "f9d2725d-27fa-4e36-f32a-76d7f0f49121"
      },
      "outputs": [
        {
          "output_type": "stream",
          "name": "stdout",
          "text": [
            "Requirement already satisfied: pyDecision in /usr/local/lib/python3.10/dist-packages (4.3.9)\n",
            "Requirement already satisfied: matplotlib in /usr/local/lib/python3.10/dist-packages (from pyDecision) (3.7.1)\n",
            "Requirement already satisfied: numpy in /usr/local/lib/python3.10/dist-packages (from pyDecision) (1.23.5)\n",
            "Requirement already satisfied: llmx in /usr/local/lib/python3.10/dist-packages (from pyDecision) (0.0.15a0)\n",
            "Requirement already satisfied: openai in /usr/local/lib/python3.10/dist-packages (from pyDecision) (1.11.1)\n",
            "Requirement already satisfied: pandas in /usr/local/lib/python3.10/dist-packages (from pyDecision) (1.5.3)\n",
            "Requirement already satisfied: scikit-learn in /usr/local/lib/python3.10/dist-packages (from pyDecision) (1.2.2)\n",
            "Requirement already satisfied: scipy in /usr/local/lib/python3.10/dist-packages (from pyDecision) (1.11.4)\n",
            "Requirement already satisfied: pydantic in /usr/local/lib/python3.10/dist-packages (from llmx->pyDecision) (2.6.0)\n",
            "Requirement already satisfied: tiktoken in /usr/local/lib/python3.10/dist-packages (from llmx->pyDecision) (0.5.2)\n",
            "Requirement already satisfied: diskcache in /usr/local/lib/python3.10/dist-packages (from llmx->pyDecision) (5.6.3)\n",
            "Requirement already satisfied: cohere in /usr/local/lib/python3.10/dist-packages (from llmx->pyDecision) (4.45)\n",
            "Requirement already satisfied: google.auth in /usr/local/lib/python3.10/dist-packages (from llmx->pyDecision) (2.17.3)\n",
            "Requirement already satisfied: typer in /usr/local/lib/python3.10/dist-packages (from llmx->pyDecision) (0.9.0)\n",
            "Requirement already satisfied: pyyaml in /usr/local/lib/python3.10/dist-packages (from llmx->pyDecision) (6.0.1)\n",
            "Requirement already satisfied: contourpy>=1.0.1 in /usr/local/lib/python3.10/dist-packages (from matplotlib->pyDecision) (1.2.0)\n",
            "Requirement already satisfied: cycler>=0.10 in /usr/local/lib/python3.10/dist-packages (from matplotlib->pyDecision) (0.12.1)\n",
            "Requirement already satisfied: fonttools>=4.22.0 in /usr/local/lib/python3.10/dist-packages (from matplotlib->pyDecision) (4.47.2)\n",
            "Requirement already satisfied: kiwisolver>=1.0.1 in /usr/local/lib/python3.10/dist-packages (from matplotlib->pyDecision) (1.4.5)\n",
            "Requirement already satisfied: packaging>=20.0 in /usr/local/lib/python3.10/dist-packages (from matplotlib->pyDecision) (23.2)\n",
            "Requirement already satisfied: pillow>=6.2.0 in /usr/local/lib/python3.10/dist-packages (from matplotlib->pyDecision) (9.4.0)\n",
            "Requirement already satisfied: pyparsing>=2.3.1 in /usr/local/lib/python3.10/dist-packages (from matplotlib->pyDecision) (3.1.1)\n",
            "Requirement already satisfied: python-dateutil>=2.7 in /usr/local/lib/python3.10/dist-packages (from matplotlib->pyDecision) (2.8.2)\n",
            "Requirement already satisfied: anyio<5,>=3.5.0 in /usr/local/lib/python3.10/dist-packages (from openai->pyDecision) (3.7.1)\n",
            "Requirement already satisfied: distro<2,>=1.7.0 in /usr/lib/python3/dist-packages (from openai->pyDecision) (1.7.0)\n",
            "Requirement already satisfied: httpx<1,>=0.23.0 in /usr/local/lib/python3.10/dist-packages (from openai->pyDecision) (0.26.0)\n",
            "Requirement already satisfied: sniffio in /usr/local/lib/python3.10/dist-packages (from openai->pyDecision) (1.3.0)\n",
            "Requirement already satisfied: tqdm>4 in /usr/local/lib/python3.10/dist-packages (from openai->pyDecision) (4.66.1)\n",
            "Requirement already satisfied: typing-extensions<5,>=4.7 in /usr/local/lib/python3.10/dist-packages (from openai->pyDecision) (4.9.0)\n",
            "Requirement already satisfied: pytz>=2020.1 in /usr/local/lib/python3.10/dist-packages (from pandas->pyDecision) (2023.4)\n",
            "Requirement already satisfied: joblib>=1.1.1 in /usr/local/lib/python3.10/dist-packages (from scikit-learn->pyDecision) (1.3.2)\n",
            "Requirement already satisfied: threadpoolctl>=2.0.0 in /usr/local/lib/python3.10/dist-packages (from scikit-learn->pyDecision) (3.2.0)\n",
            "Requirement already satisfied: idna>=2.8 in /usr/local/lib/python3.10/dist-packages (from anyio<5,>=3.5.0->openai->pyDecision) (3.6)\n",
            "Requirement already satisfied: exceptiongroup in /usr/local/lib/python3.10/dist-packages (from anyio<5,>=3.5.0->openai->pyDecision) (1.2.0)\n",
            "Requirement already satisfied: certifi in /usr/local/lib/python3.10/dist-packages (from httpx<1,>=0.23.0->openai->pyDecision) (2024.2.2)\n",
            "Requirement already satisfied: httpcore==1.* in /usr/local/lib/python3.10/dist-packages (from httpx<1,>=0.23.0->openai->pyDecision) (1.0.2)\n",
            "Requirement already satisfied: h11<0.15,>=0.13 in /usr/local/lib/python3.10/dist-packages (from httpcore==1.*->httpx<1,>=0.23.0->openai->pyDecision) (0.14.0)\n",
            "Requirement already satisfied: annotated-types>=0.4.0 in /usr/local/lib/python3.10/dist-packages (from pydantic->llmx->pyDecision) (0.6.0)\n",
            "Requirement already satisfied: pydantic-core==2.16.1 in /usr/local/lib/python3.10/dist-packages (from pydantic->llmx->pyDecision) (2.16.1)\n",
            "Requirement already satisfied: six>=1.5 in /usr/local/lib/python3.10/dist-packages (from python-dateutil>=2.7->matplotlib->pyDecision) (1.16.0)\n",
            "Requirement already satisfied: aiohttp<4.0,>=3.0 in /usr/local/lib/python3.10/dist-packages (from cohere->llmx->pyDecision) (3.9.3)\n",
            "Requirement already satisfied: backoff<3.0,>=2.0 in /usr/local/lib/python3.10/dist-packages (from cohere->llmx->pyDecision) (2.2.1)\n",
            "Requirement already satisfied: fastavro<2.0,>=1.8 in /usr/local/lib/python3.10/dist-packages (from cohere->llmx->pyDecision) (1.9.3)\n",
            "Requirement already satisfied: importlib_metadata<7.0,>=6.0 in /usr/local/lib/python3.10/dist-packages (from cohere->llmx->pyDecision) (6.11.0)\n",
            "Requirement already satisfied: requests<3.0.0,>=2.25.0 in /usr/local/lib/python3.10/dist-packages (from cohere->llmx->pyDecision) (2.31.0)\n",
            "Requirement already satisfied: urllib3<3,>=1.26 in /usr/local/lib/python3.10/dist-packages (from cohere->llmx->pyDecision) (2.0.7)\n",
            "Requirement already satisfied: cachetools<6.0,>=2.0.0 in /usr/local/lib/python3.10/dist-packages (from google.auth->llmx->pyDecision) (5.3.2)\n",
            "Requirement already satisfied: pyasn1-modules>=0.2.1 in /usr/local/lib/python3.10/dist-packages (from google.auth->llmx->pyDecision) (0.3.0)\n",
            "Requirement already satisfied: rsa<5,>=3.1.4 in /usr/local/lib/python3.10/dist-packages (from google.auth->llmx->pyDecision) (4.9)\n",
            "Requirement already satisfied: regex>=2022.1.18 in /usr/local/lib/python3.10/dist-packages (from tiktoken->llmx->pyDecision) (2023.12.25)\n",
            "Requirement already satisfied: click<9.0.0,>=7.1.1 in /usr/local/lib/python3.10/dist-packages (from typer->llmx->pyDecision) (8.1.7)\n",
            "Requirement already satisfied: aiosignal>=1.1.2 in /usr/local/lib/python3.10/dist-packages (from aiohttp<4.0,>=3.0->cohere->llmx->pyDecision) (1.3.1)\n",
            "Requirement already satisfied: attrs>=17.3.0 in /usr/local/lib/python3.10/dist-packages (from aiohttp<4.0,>=3.0->cohere->llmx->pyDecision) (23.2.0)\n",
            "Requirement already satisfied: frozenlist>=1.1.1 in /usr/local/lib/python3.10/dist-packages (from aiohttp<4.0,>=3.0->cohere->llmx->pyDecision) (1.4.1)\n",
            "Requirement already satisfied: multidict<7.0,>=4.5 in /usr/local/lib/python3.10/dist-packages (from aiohttp<4.0,>=3.0->cohere->llmx->pyDecision) (6.0.5)\n",
            "Requirement already satisfied: yarl<2.0,>=1.0 in /usr/local/lib/python3.10/dist-packages (from aiohttp<4.0,>=3.0->cohere->llmx->pyDecision) (1.9.4)\n",
            "Requirement already satisfied: async-timeout<5.0,>=4.0 in /usr/local/lib/python3.10/dist-packages (from aiohttp<4.0,>=3.0->cohere->llmx->pyDecision) (4.0.3)\n",
            "Requirement already satisfied: zipp>=0.5 in /usr/local/lib/python3.10/dist-packages (from importlib_metadata<7.0,>=6.0->cohere->llmx->pyDecision) (3.17.0)\n",
            "Requirement already satisfied: pyasn1<0.6.0,>=0.4.6 in /usr/local/lib/python3.10/dist-packages (from pyasn1-modules>=0.2.1->google.auth->llmx->pyDecision) (0.5.1)\n",
            "Requirement already satisfied: charset-normalizer<4,>=2 in /usr/local/lib/python3.10/dist-packages (from requests<3.0.0,>=2.25.0->cohere->llmx->pyDecision) (3.3.2)\n"
          ]
        }
      ],
      "source": [
        "# Yes, you need to install twice to prevent some existing bug.\n",
        "!pip install pyDecision"
      ]
    },
    {
      "cell_type": "markdown",
      "metadata": {
        "id": "roiy9pJ6KMN1"
      },
      "source": [
        "# MCDM rankings: GMSP + HTD"
      ]
    },
    {
      "cell_type": "code",
      "source": [
        "M = 5"
      ],
      "metadata": {
        "id": "_q1IaemhHV_2"
      },
      "execution_count": null,
      "outputs": []
    },
    {
      "cell_type": "code",
      "execution_count": null,
      "metadata": {
        "id": "LS3Wqn3Hb3yp"
      },
      "outputs": [],
      "source": [
        "# # MCDM ranking Scenario 1\n",
        "# m1_s1 = [45, 38, 59, 43, 39, 76, 77, 44, 49, 46, 63, 37, 67, 72, 74, 33, 15, 16, 21, 58, 22, 52, 47, 32, 31, 36, 42, 73, 14, 20, 57, 19, 28, 29, 35, 18, 51, 1, 60, 13, 79, 24, 62, 48, 53, 50, 68, 56, 70, 40, 75, 54, 23, 10, 78, 69, 26, 5, 41, 71, 30, 2, 61, 7, 25, 3, 9, 4, 8, 80, 64, 34, 55, 65, 66, 17, 27, 12, 6, 11]\n",
        "# m2_s1 = [45, 38, 43, 59, 39, 76, 77, 44, 46, 49, 63, 37, 67, 16, 15, 74, 72, 33, 21, 58, 52, 22, 47, 32, 31, 42, 36, 14, 73, 19, 20, 57, 35, 68, 80, 28, 6, 11, 18, 51, 79, 30, 3, 13, 29, 48, 41, 5, 40, 26, 12, 10, 62, 27, 17, 56, 65, 1, 34, 8, 50, 61, 55, 53, 4, 54, 23, 64, 60, 75, 24, 78, 9, 2, 69, 66, 71, 7, 25, 70]\n",
        "# m3_s1 = [45, 38, 59, 39, 43, 76, 77, 44, 13, 49, 46, 18, 19, 14, 11, 6, 5, 41, 65, 12, 17, 55, 34, 30, 27, 64, 66, 4, 9, 2, 75, 40, 7, 8, 68, 80, 23, 78, 25, 69, 51, 48, 71, 28, 79, 20, 50, 35, 61, 26, 10, 56, 62, 3, 70, 1, 36, 54, 24, 60, 57, 53, 29, 73, 47, 31, 32, 52, 16, 22, 58, 15, 63, 42, 37, 67, 74, 21, 72, 33]\n",
        "# m4_s1 = [45, 38, 59, 43, 39, 76, 77, 44, 46, 49, 63, 37, 67, 74, 72, 33, 15, 16, 21, 58, 22, 52, 47, 32, 31, 36, 42, 73, 57, 14, 20, 28, 19, 35, 29, 68, 79, 51, 48, 62, 1, 30, 40, 56, 53, 50, 60, 24, 41, 5, 17, 23, 70, 34, 65, 78, 54, 69, 75, 55, 71, 64, 18, 25, 2, 61, 80, 7, 66, 9, 10, 13, 4, 3, 26, 8, 27, 12, 11, 6]\n",
        "# m5_s1 = [45, 38, 59, 39, 43, 76, 77, 44, 49, 46, 63, 67, 37, 74, 72, 33, 21, 15, 16, 58, 22, 52, 47, 31, 32, 36, 42, 73, 57, 20, 28, 14, 19, 29, 35, 53, 54, 24, 60, 3, 70, 1, 10, 62, 26, 56, 61, 71, 50, 48, 79, 25, 69, 78, 51, 23, 8, 80, 7, 75, 9, 4, 2, 40, 66, 68, 27, 64, 34, 55, 30, 12, 17, 65, 41, 5, 6, 11, 18, 13]"
      ]
    },
    {
      "cell_type": "code",
      "source": [
        "# # Indexes\n",
        "# m1_s1 = [11, 6, 12, 17, 27, 65, 66, 55, 34, 64, 80, 8, 4, 9, 30, 25, 41, 5, 3, 7, 2, 61, 69, 71, 78, 26, 23, 10, 75, 54, 40, 68, 70, 56, 50, 48, 53, 62, 79, 13, 24, 51, 1, 60, 18, 35, 29, 28, 19, 57, 20, 14, 73, 42, 36, 31, 32, 47, 52, 22, 58, 21, 16, 15, 33, 74, 72, 67, 37, 63, 46, 49, 44, 77, 76, 39, 43, 59, 38, 45]\n",
        "# m2_s1 = [70, 25, 71, 7, 66, 69, 78, 2, 24, 9, 75, 60, 23, 64, 53, 55, 50, 1, 34, 4, 56, 54, 65, 61, 17, 62, 8, 40, 5, 41, 48, 29, 30, 79, 13, 51, 27, 18, 10, 12, 28, 26, 68, 35, 3, 57, 11, 20, 19, 6, 80, 73, 14, 36, 42, 31, 32, 47, 22, 52, 58, 21, 33, 72, 74, 15, 16, 67, 37, 63, 49, 46, 44, 77, 76, 39, 59, 43, 38, 45]\n",
        "# m3_s1 = [11, 43, 6, 47, 46, 44, 41, 5, 77, 65, 17, 30, 38, 76, 49, 59, 12, 34, 55, 45, 58, 39, 68, 52, 64, 63, 36, 32, 72, 22, 40, 27, 66, 2, 75, 9, 4, 20, 7, 51, 31, 35, 28, 23, 80, 8, 79, 78, 67, 37, 48, 33, 69, 25, 21, 50, 71, 73, 57, 56, 62, 61, 26, 18, 10, 74, 1, 70, 60, 24, 29, 3, 53, 54, 42, 13, 19, 14, 15, 16]\n",
        "# m4_s1 = [6, 11, 12, 13, 27, 8, 4, 18, 26, 9, 3, 66, 10, 7, 80, 2, 61, 64, 25, 55, 65, 75, 69, 78, 71, 34, 17, 54, 23, 5, 70, 41, 24, 50, 60, 30, 40, 56, 53, 1, 48, 62, 51, 79, 68, 29, 19, 35, 28, 14, 20, 57, 73, 42, 36, 31, 32, 47, 52, 22, 58, 21, 16, 15, 33, 72, 74, 67, 37, 63, 49, 46, 44, 77, 76, 39, 43, 59, 38, 45]\n",
        "# m5_s1 = [13, 18, 11, 6, 5, 41, 65, 17, 30, 12, 55, 34, 64, 27, 68, 66, 40, 2, 75, 4, 9, 7, 80, 51, 23, 8, 78, 69, 79, 25, 48, 50, 71, 61, 56, 62, 26, 10, 1, 70, 3, 60, 24, 54, 53, 35, 19, 14, 29, 28, 20, 57, 73, 42, 36, 32, 31, 16, 47, 52, 15, 22, 58, 21, 33, 72, 74, 37, 67, 63, 46, 49, 44, 77, 76, 43, 39, 59, 38, 45]"
      ],
      "metadata": {
        "id": "L17NpqWo-dmT"
      },
      "execution_count": null,
      "outputs": []
    },
    {
      "cell_type": "code",
      "source": [
        "# Indexes\n",
        "m1_s1 = [43,21,19,13,18,2,20,12,14,28,1,3,40,52,64,63,4,45,49,51,62,60,27,41,16,26,5,48,47,15,56,57,65,9,46,55,69,79,76,31,17,54,77,73,80,71,58,36,72,35,42,59,37,30,8,34,50,61,78,44,22,38,70,10,6,7,68,32,23,33,24,67,53,66,29,75,74,25,39,11]\n",
        "m2_s1 = [23,8,35,14,33,44,3,20,7,28,40,29,38,53,66,67,27,43,51,50,62,59,16,10,2,30,26,46,37,39,56,57,63,22,48,54,69,79,76,32,34,55,78,73,80,72,58,36,71,21,42,60,17,13,19,25,49,61,77,12,18,31,70,15,24,5,68,47,6,1,4,64,52,65,11,75,74,9,41,45]\n",
        "m3_s1 = [67,34,72,37,8,3,39,46,36,65,1,17,76,78,79,80,11,64,77,38,55,30,44,70,54,63,32,43,71,12,41,28,52,18,42,27,50,13,22,31,7,75,2,6,20,5,4,51,15,56,40,24,73,74,19,60,59,21,16,69,62,61,26,25,10,33,49,23,53,68,57,29,58,66,35,14,9,48,47,45]\n",
        "m4_s1 = [40,16,13,8,28,1,12,7,10,14,2,4,3,50,64,63,26,6,48,51,62,60,30,36,21,11,5,49,46,33,56,57,65,23,47,55,68,79,76,34,29,54,77,73,80,72,58,41,71,35,43,59,39,31,18,38,52,61,78,37,20,42,70,17,19,9,69,45,25,32,27,67,53,66,22,75,74,24,44,15]\n",
        "m5_s1 = [39,18,41,20,5,4,22,26,21,38,3,10,1,48,61,58,8,2,47,51,64,62,25,43,30,37,14,50,49,9,57,56,65,12,46,55,68,79,77,17,6,54,76,73,80,71,59,31,72,32,24,60,45,44,11,35,52,63,78,42,34,36,70,13,7,16,69,15,28,40,33,66,53,67,19,75,74,27,29,23]"
      ],
      "metadata": {
        "id": "caCsdnZzHEr9"
      },
      "execution_count": null,
      "outputs": []
    },
    {
      "cell_type": "code",
      "execution_count": null,
      "metadata": {
        "id": "3U8w-MHRvWjT"
      },
      "outputs": [],
      "source": [
        "# # MCDM ranking Scenario 2\n",
        "# m1_s2 = [74, 9, 30, 12, 42, 64, 68, 10, 79, 58, 48, 20, 8, 26, 11, 50, 51, 24, 71, 18, 13, 75, 53, 14, 35, 67, 41, 1, 5, 62, 56, 16, 40, 52, 60, 29, 19, 33, 32, 63, 77, 15, 2, 65, 37, 70, 21, 59, 17, 78, 25, 69, 34, 4, 23, 66, 46, 80, 73, 43, 28, 45, 27, 76, 55, 39, 22, 36, 47, 54, 57, 61, 38, 72, 49, 3, 31, 44, 6, 7]\n",
        "# m2_s2 = [30, 12, 9, 74, 64, 42, 68, 10, 80, 79, 58, 6, 7, 48, 20, 44, 8, 26, 31, 3, 49, 11, 72, 50, 38, 61, 54, 57, 71, 24, 18, 51, 16, 13, 41, 36, 14, 5, 15, 67, 75, 53, 35, 62, 56, 1, 40, 65, 52, 33, 19, 17, 22, 29, 32, 63, 34, 60, 47, 45, 2, 77, 37, 39, 21, 78, 76, 25, 46, 59, 4, 43, 69, 28, 23, 73, 66, 70, 55, 27]\n",
        "# m3_s2 = [74, 42, 53, 10, 24, 29, 54, 60, 3, 70, 1, 26, 45, 67, 62, 37, 56, 21, 33, 61, 57, 73, 71, 39, 50, 38, 59, 79, 48, 8, 25, 69, 16, 76, 15, 78, 31, 35, 14, 63, 13, 7, 51, 23, 9, 80, 28, 19, 20, 72, 18, 77, 49, 22, 32, 75, 4, 58, 2, 52, 64, 68, 40, 66, 36, 27, 44, 12, 43, 46, 30, 11, 6, 34, 55, 17, 5, 41, 65, 47]\n",
        "# m4_s2 = [30, 12, 9, 74, 64, 42, 68, 10, 79, 58, 48, 20, 8, 26, 11, 50, 24, 71, 51, 41, 53, 67, 75, 18, 62, 56, 35, 1, 5, 40, 33, 52, 65, 29, 17, 13, 16, 60, 32, 63, 14, 34, 2, 77, 15, 37, 21, 78, 19, 25, 46, 59, 4, 43, 69, 23, 70, 66, 73, 80, 27, 39, 28, 45, 55, 76, 22, 47, 36, 57, 54, 61, 38, 72, 3, 49, 31, 44, 6, 7]\n",
        "# m5_s2 = [42, 74, 53, 54, 29, 24, 60, 3, 70, 10, 1, 26, 45, 37, 67, 62, 56, 61, 21, 57, 33, 73, 39, 71, 50, 38, 59, 79, 48, 25, 69, 8, 76, 31, 78, 35, 63, 23, 80, 28, 51, 9, 72, 20, 77, 49, 7, 22, 32, 4, 75, 58, 2, 52, 64, 68, 40, 66, 36, 12, 27, 44, 43, 46, 30, 34, 55, 17, 65, 47, 41, 5, 6, 11, 18, 19, 13, 14, 15, 16]"
      ]
    },
    {
      "cell_type": "code",
      "source": [
        "# m1_s2 = [7, 6, 44, 31, 3, 49, 72, 38, 61, 57, 47, 54, 36, 22, 55, 39, 27, 76, 28, 43, 45, 46, 73, 80, 66, 17, 34, 23, 4, 69, 78, 25, 59, 21, 65, 37, 70, 15, 2, 63, 77, 32, 33, 19, 52, 16, 29, 60, 40, 56, 5, 41, 62, 1, 35, 14, 67, 53, 75, 13, 71, 18, 24, 51, 50, 11, 26, 8, 20, 48, 58, 79, 10, 68, 64, 42, 30, 12, 9, 74]\n",
        "# m2_s2 = [27, 55, 70, 73, 28, 66, 23, 76, 69, 39, 59, 43, 4, 25, 46, 45, 78, 21, 47, 37, 22, 77, 2, 60, 34, 63, 36, 29, 32, 19, 57, 17, 33, 52, 65, 54, 1, 61, 38, 40, 56, 62, 53, 15, 35, 67, 75, 14, 5, 72, 13, 41, 49, 3, 16, 31, 18, 24, 51, 71, 44, 50, 6, 80, 11, 26, 8, 20, 48, 7, 58, 79, 10, 68, 42, 64, 74, 9, 12, 30]\n",
        "# m3_s2 = [41, 5, 47, 65, 17, 6, 30, 11, 12, 55, 34, 64, 68, 46, 43, 27, 44, 40, 58, 36, 66, 52, 2, 75, 4, 32, 18, 9, 22, 19, 13, 14, 20, 15, 49, 77, 7, 16, 51, 72, 28, 80, 23, 63, 35, 78, 8, 31, 79, 76, 48, 69, 25, 59, 50, 38, 71, 39, 73, 33, 21, 57, 56, 61, 62, 67, 37, 26, 45, 10, 1, 70, 60, 3, 24, 29, 54, 53, 74, 42]\n",
        "# m4_s2 = [7, 6, 44, 31, 49, 72, 3, 38, 61, 57, 36, 54, 47, 22, 55, 76, 27, 28, 39, 45, 80, 73, 66, 19, 23, 43, 70, 69, 4, 46, 59, 15, 25, 78, 14, 21, 16, 37, 2, 77, 13, 34, 63, 32, 17, 65, 60, 29, 52, 18, 33, 40, 5, 35, 75, 56, 41, 62, 1, 67, 53, 51, 71, 24, 50, 11, 26, 8, 20, 48, 58, 79, 10, 68, 64, 42, 74, 9, 12, 30]\n",
        "# m5_s2 = [16, 15, 14, 13, 19, 18, 11, 6, 5, 41, 47, 65, 17, 55, 34, 30, 46, 12, 43, 44, 27, 36, 68, 66, 64, 40, 52, 58, 2, 75, 4, 32, 22, 7, 49, 77, 20, 9, 72, 51, 28, 80, 23, 63, 35, 78, 31, 8, 76, 69, 25, 48, 79, 59, 50, 38, 71, 39, 73, 33, 57, 21, 61, 56, 62, 67, 37, 45, 26, 1, 10, 70, 3, 60, 24, 29, 54, 53, 74, 42]"
      ],
      "metadata": {
        "id": "qzs36zevAJqQ"
      },
      "execution_count": null,
      "outputs": []
    },
    {
      "cell_type": "code",
      "source": [
        "m1_s2 = [54,39,5,29,51,2,1,68,79,73,66,78,60,56,38,46,26,62,44,69,34,14,28,63,32,67,17,19,47,77,4,42,43,27,55,13,36,8,16,49,52,76,20,3,21,22,11,70,6,65,64,45,58,12,15,50,10,71,33,48,9,53,40,75,35,25,57,74,30,37,61,7,23,80,59,18,41,31,72,24]\n",
        "m2_s2 = [35,22,59,12,45,65,70,66,78,73,63,79,48,46,43,52,30,53,29,68,17,23,7,55,15,64,1,5,27,80,60,28,31,25,40,33,19,51,13,36,47,75,11,62,18,14,20,69,58,61,54,32,39,49,2,37,44,71,10,24,50,38,26,76,34,6,41,74,8,3,56,57,4,77,42,9,21,16,72,67]\n",
        "m3_s2 = [71,23,74,25,2,6,37,47,28,70,8,9,31,32,34,38,5,27,30,33,61,29,43,75,53,68,16,41,76,7,48,26,60,11,45,20,67,56,58,18,1,80,15,17,69,14,3,51,35,55,39,22,78,77,10,63,62,19,54,73,64,65,44,12,4,21,66,13,52,72,57,40,59,79,24,50,36,46,49,42]\n",
        "m4_s2 = [59,39,7,29,53,2,1,68,78,73,66,79,41,35,32,37,45,50,24,69,36,14,25,64,33,67,17,18,48,80,4,44,51,42,54,11,38,8,19,52,57,76,26,3,20,30,13,70,5,65,62,49,61,12,15,56,10,71,31,47,9,58,43,75,46,23,60,74,28,27,63,6,22,77,55,16,40,34,72,21]\n",
        "m5_s2 = [70,29,73,31,9,8,34,48,38,71,7,18,4,3,2,1,13,6,5,37,62,33,43,75,51,69,21,41,76,16,47,32,60,15,45,22,67,56,58,26,10,80,19,20,68,17,11,52,35,55,40,27,78,77,14,64,61,28,54,74,63,65,44,25,12,24,66,23,50,72,57,39,59,79,30,49,36,46,53,42]"
      ],
      "metadata": {
        "id": "54ywBYArIkJu"
      },
      "execution_count": null,
      "outputs": []
    },
    {
      "cell_type": "code",
      "execution_count": null,
      "metadata": {
        "id": "uZXnVdTxwLrx"
      },
      "outputs": [],
      "source": [
        "# # MCDM ranking Scenario 3\n",
        "# m1_s3 = [37, 77, 51, 32, 39, 42, 62, 76, 14, 44, 15, 35, 59, 38, 79, 33, 45, 41, 16, 40, 18, 43, 67, 68, 22, 21, 56, 5, 13, 19, 46, 1, 63, 73, 34, 55, 17, 50, 74, 72, 58, 48, 65, 23, 31, 52, 53, 75, 29, 66, 49, 60, 78, 64, 30, 71, 24, 47, 69, 2, 54, 70, 7, 20, 25, 9, 57, 80, 28, 26, 61, 4, 36, 8, 11, 10, 12, 27, 3, 6]\n",
        "# m2_s3 = [80, 6, 37, 16, 15, 14, 77, 51, 32, 39, 41, 44, 62, 76, 42, 35, 18, 40, 43, 79, 38, 68, 59, 33, 45, 3, 12, 27, 13, 67, 19, 5, 46, 21, 56, 17, 34, 55, 22, 11, 73, 63, 1, 65, 50, 74, 58, 72, 48, 23, 31, 53, 52, 29, 66, 75, 49, 10, 60, 30, 36, 64, 78, 47, 8, 4, 71, 24, 69, 61, 2, 54, 7, 70, 26, 25, 20, 9, 28, 57]\n",
        "# m3_s3 = [42, 74, 53, 54, 29, 60, 24, 70, 1, 3, 45, 37, 10, 62, 67, 26, 21, 56, 33, 39, 73, 61, 57, 38, 59, 71, 50, 76, 79, 48, 25, 69, 31, 35, 78, 63, 23, 51, 8, 72, 80, 28, 77, 49, 16, 7, 22, 15, 14, 13, 20, 32, 19, 18, 75, 9, 4, 2, 52, 40, 44, 66, 58, 36, 43, 27, 46, 68, 64, 34, 55, 11, 12, 6, 30, 17, 65, 47, 41, 5]\n",
        "# m4_s3 = [37, 77, 51, 15, 16, 32, 39, 44, 41, 14, 76, 62, 35, 42, 40, 43, 68, 79, 59, 38, 33, 45, 67, 18, 5, 46, 22, 34, 55, 21, 17, 56, 13, 63, 19, 73, 1, 65, 58, 50, 72, 23, 48, 74, 31, 52, 75, 53, 66, 29, 49, 60, 30, 64, 78, 47, 71, 24, 69, 2, 7, 54, 20, 70, 25, 9, 80, 57, 3, 28, 10, 26, 61, 4, 36, 8, 11, 27, 12, 6]\n",
        "# m5_s3 = [42, 74, 53, 29, 54, 60, 24, 37, 1, 45, 70, 3, 62, 67, 39, 33, 10, 21, 56, 73, 26, 38, 57, 59, 61, 50, 71, 76, 79, 51, 35, 48, 31, 77, 69, 25, 63, 78, 23, 72, 8, 32, 80, 28, 49, 22, 7, 44, 20, 40, 75, 52, 9, 43, 4, 2, 58, 66, 68, 46, 36, 27, 64, 34, 55, 17, 12, 30, 65, 41, 47, 5, 6, 11, 18, 19, 13, 14, 15, 16]"
      ]
    },
    {
      "cell_type": "code",
      "source": [
        "# m1_s3 = [6, 3, 27, 12, 11, 10, 8, 36, 4, 61, 28, 26, 80, 57, 9, 25, 20, 7, 70, 2, 54, 69, 47, 24, 71, 30, 64, 78, 60, 49, 66, 75, 29, 53, 52, 31, 65, 23, 48, 58, 72, 17, 74, 50, 55, 34, 73, 63, 46, 1, 5, 19, 56, 21, 13, 22, 68, 43, 67, 16, 41, 40, 18, 33, 79, 45, 38, 15, 59, 35, 44, 14, 76, 62, 39, 42, 32, 51, 77, 37]\n",
        "# m2_s3 = [57, 28, 9, 20, 25, 26, 70, 7, 54, 61, 2, 69, 24, 71, 8, 78, 4, 10, 60, 64, 47, 49, 29, 30, 36, 75, 66, 53, 31, 52, 23, 48, 72, 74, 50, 58, 1, 73, 63, 65, 22, 56, 21, 55, 34, 46, 17, 67, 3, 5, 45, 11, 33, 38, 59, 79, 68, 43, 40, 35, 27, 42, 12, 62, 76, 19, 44, 39, 13, 32, 41, 18, 51, 77, 37, 14, 15, 16, 6, 80]\n",
        "# m3_s3 = [41, 5, 47, 65, 17, 6, 30, 11, 12, 55, 34, 64, 68, 46, 43, 27, 58, 44, 36, 40, 66, 52, 2, 75, 18, 4, 9, 32, 19, 13, 22, 14, 20, 15, 7, 16, 49, 77, 51, 72, 28, 80, 23, 63, 35, 8, 78, 79, 31, 48, 69, 76, 25, 59, 50, 71, 38, 39, 73, 33, 57, 61, 56, 21, 67, 62, 37, 26, 10, 45, 1, 70, 3, 60, 24, 29, 54, 53, 74, 42]\n",
        "# m4_s3 = [6, 12, 27, 11, 8, 36, 4, 61, 26, 10, 28, 3, 57, 80, 9, 25, 70, 20, 54, 7, 2, 69, 24, 71, 47, 78, 64, 30, 60, 49, 29, 66, 53, 75, 52, 31, 74, 48, 23, 72, 50, 58, 65, 1, 73, 19, 63, 13, 56, 17, 21, 55, 34, 22, 46, 5, 18, 67, 45, 33, 38, 59, 79, 68, 43, 40, 42, 35, 62, 76, 14, 41, 44, 39, 32, 16, 15, 51, 77, 37]\n",
        "# m5_s3 = [16, 15, 14, 13, 19, 18, 11, 6, 5, 47, 41, 65, 30, 12, 17, 55, 34, 64, 27, 36, 46, 68, 66, 58, 2, 4, 43, 9, 52, 75, 40, 20, 44, 7, 22, 49, 28, 80, 32, 8, 72, 23, 78, 63, 25, 69, 77, 31, 48, 35, 51, 79, 76, 71, 50, 61, 59, 57, 38, 26, 73, 56, 21, 10, 33, 39, 67, 62, 3, 70, 45, 1, 37, 24, 60, 54, 29, 53, 74, 42]"
      ],
      "metadata": {
        "id": "d-dZfOnKAbGs"
      },
      "execution_count": null,
      "outputs": []
    },
    {
      "cell_type": "code",
      "source": [
        "m1_s3 = [50,20,2,9,51,1,18,7,15,6,5,4,55,72,68,60,42,63,52,17,54,56,38,24,16,12,3,11,33,26,36,77,64,46,70,8,80,67,75,62,61,76,58,71,66,49,23,39,30,44,78,35,34,21,45,53,14,40,69,29,10,74,48,27,37,31,59,57,22,19,25,41,47,43,32,73,79,28,65,13]\n",
        "m2_s3 = [38,11,37,15,53,76,9,13,4,17,42,50,64,75,79,80,49,68,59,5,45,43,31,14,6,3,46,2,25,24,30,71,55,48,63,18,77,56,70,62,72,65,61,69,54,51,20,32,23,35,73,29,28,10,47,44,1,36,57,21,8,66,41,22,40,27,52,60,12,7,16,33,39,34,26,67,74,19,58,78]\n",
        "m3_s3 = [71,23,73,26,2,6,35,46,27,69,8,9,30,32,34,36,5,25,29,33,64,31,43,75,53,68,16,41,76,7,49,28,60,11,45,19,67,57,58,20,1,80,15,18,70,14,3,50,37,55,39,22,78,77,10,63,61,17,54,74,62,66,44,12,4,21,65,13,51,72,56,40,59,79,24,52,38,47,48,42]\n",
        "m4_s3 = [44,21,12,7,56,1,20,5,15,10,4,2,48,71,77,76,50,57,46,18,51,54,39,23,16,9,3,11,31,28,36,75,60,53,68,6,80,61,74,66,72,67,65,73,59,55,25,38,30,41,78,35,33,19,52,49,13,42,62,29,8,69,47,27,43,32,58,64,22,17,24,40,45,37,34,70,79,26,63,14]\n",
        "m5_s3 = [72,25,69,26,9,8,34,40,28,64,7,14,4,3,2,1,15,6,5,32,63,35,42,74,45,60,19,37,77,13,48,39,65,17,50,20,73,59,66,31,11,80,27,33,71,21,10,49,36,55,51,29,78,76,16,62,58,24,57,75,56,68,44,18,12,23,67,22,46,70,54,41,61,79,30,53,47,43,52,38]"
      ],
      "metadata": {
        "id": "W4ISyGV4JfNn"
      },
      "execution_count": null,
      "outputs": []
    },
    {
      "cell_type": "code",
      "source": [
        "list_of_rankings_s1 = np.array([m1_s1, m2_s1, m3_s1, m4_s1, m5_s1])\n",
        "list_of_rankings_s2 = np.array([m1_s2, m2_s2, m3_s2, m4_s2, m5_s2])\n",
        "list_of_rankings_s3 = np.array([m1_s3, m2_s3, m3_s3, m4_s3, m5_s3])"
      ],
      "metadata": {
        "id": "SGqi8fupF--s"
      },
      "execution_count": null,
      "outputs": []
    },
    {
      "cell_type": "code",
      "source": [
        "# Rankings combinados em uma lista para simplificar o acesso\n",
        "mcdm_rankings = [list_of_rankings_s1, list_of_rankings_s2, list_of_rankings_s3]"
      ],
      "metadata": {
        "id": "k4slWcGFCrTo"
      },
      "execution_count": null,
      "outputs": []
    },
    {
      "cell_type": "markdown",
      "source": [
        "# MCDM weights"
      ],
      "metadata": {
        "id": "_3dhYPEEE8Ac"
      }
    },
    {
      "cell_type": "code",
      "execution_count": null,
      "metadata": {
        "id": "DnxOv1HK9cV4"
      },
      "outputs": [],
      "source": [
        "def normalised_kendall_tau_distance(values1, values2):\n",
        "    \"\"\"Compute the Kendall tau distance.\"\"\"\n",
        "    n = len(values1)\n",
        "    assert len(values2) == n, \"Both lists have to be of equal length\"\n",
        "    i, j = np.meshgrid(np.arange(n), np.arange(n))\n",
        "    a = np.argsort(values1)\n",
        "    b = np.argsort(values2)\n",
        "    ndisordered = np.logical_or(np.logical_and(a[i] < a[j], b[i] > b[j]), np.logical_and(a[i] > a[j], b[i] < b[j])).sum()\n",
        "    return (ndisordered / (n * (n - 1)))"
      ]
    },
    {
      "cell_type": "code",
      "execution_count": null,
      "metadata": {
        "id": "NmFm1mDXKZ_c"
      },
      "outputs": [],
      "source": [
        "def compute_mcdm_weights(list_of_rankings):\n",
        "    # Kendall tau\n",
        "    ktd = np.zeros((M, M))\n",
        "    for i in range(M):\n",
        "        for j in range(i, M):\n",
        "            ktd[i, j] = normalised_kendall_tau_distance(list_of_rankings[i], list_of_rankings[j])\n",
        "            if i != j:\n",
        "                ktd[j, i] = ktd[i, j]\n",
        "            else:\n",
        "                ktd[j, i] = 0\n",
        "\n",
        "    # Aggregate weights\n",
        "    w_inverted = 1 / (ktd.sum(axis=0) + np.finfo(float).eps)\n",
        "    return w_inverted / w_inverted.sum()"
      ]
    },
    {
      "cell_type": "code",
      "source": [
        "# S1\n",
        "list_mcdm_s1 = [m1_s1, m2_s1, m3_s1, m4_s1, m5_s1]\n",
        "w_mcdm_s1 = compute_mcdm_weights(list_mcdm_s1)\n",
        "print(\"MCDM weights S1: \", w_mcdm_s1)\n",
        "\n",
        "# S2\n",
        "list_mcdm_s2 = [m1_s2, m2_s2, m3_s2, m4_s2, m5_s2]\n",
        "w_mcdm_s2 = compute_mcdm_weights(list_mcdm_s2)\n",
        "print(\"MCDM weights S2: \", w_mcdm_s2)\n",
        "\n",
        "# S3\n",
        "list_mcdm_s3 = [m1_s3, m2_s3, m3_s3, m4_s3, m5_s3]\n",
        "w_mcdm_s3 = compute_mcdm_weights(list_mcdm_s3)\n",
        "print(\"MCDM weights S3: \", w_mcdm_s3)"
      ],
      "metadata": {
        "colab": {
          "base_uri": "https://localhost:8080/"
        },
        "id": "b7hFclkyCrGu",
        "outputId": "e34c3a36-27c9-4e2f-d047-84ffb9447d7b"
      },
      "execution_count": null,
      "outputs": [
        {
          "output_type": "stream",
          "name": "stdout",
          "text": [
            "MCDM weights S1:  [0.20727242 0.18271267 0.1840611  0.22105064 0.20490317]\n",
            "MCDM weights S2:  [0.19791922 0.19232188 0.20114223 0.19951771 0.20909897]\n",
            "MCDM weights S3:  [0.21185755 0.19415108 0.19292764 0.20166005 0.19940367]\n"
          ]
        }
      ]
    },
    {
      "cell_type": "code",
      "source": [
        "# w_mcdm_s1 = [0.23889429, 0.22360976, 0.09522601, 0.24095304, 0.2013169]\n",
        "# w_mcdm_s2 = [0.22311289, 0.18091808, 0.19136822, 0.2206545,  0.18394631]\n",
        "# w_mcdm_s3 = [0.23619704, 0.19196975, 0.1724205,  0.23046719, 0.16894552]\n",
        "\n",
        "# mcdm_weights = np.array([w_mcdm_s1, w_mcdm_s2, w_mcdm_s3])\n",
        "# mcdm_weights"
      ],
      "metadata": {
        "id": "Mg2C-EV-tVcc"
      },
      "execution_count": null,
      "outputs": []
    },
    {
      "cell_type": "code",
      "source": [
        "# MCDM weights used\n",
        "w_mcdm_s1 = [.2335, .2208, .1113, .2410, .1934]\n",
        "w_mcdm_s2 = [.2280, .1713, .1897, .2209, .1901]\n",
        "w_mcdm_s3 = [.2403, .1771, .1762, .2319, .1744]\n",
        "\n",
        "mcdm_weights = np.array([w_mcdm_s1, w_mcdm_s2, w_mcdm_s3])\n",
        "mcdm_weights"
      ],
      "metadata": {
        "colab": {
          "base_uri": "https://localhost:8080/"
        },
        "id": "SNHc-biDfHf2",
        "outputId": "7a9a6803-7fc6-48a9-f30f-3390ddc72c0d"
      },
      "execution_count": null,
      "outputs": [
        {
          "output_type": "execute_result",
          "data": {
            "text/plain": [
              "array([[0.2335, 0.2208, 0.1113, 0.241 , 0.1934],\n",
              "       [0.228 , 0.1713, 0.1897, 0.2209, 0.1901],\n",
              "       [0.2403, 0.1771, 0.1762, 0.2319, 0.1744]])"
            ]
          },
          "metadata": {},
          "execution_count": 361
        }
      ]
    },
    {
      "cell_type": "code",
      "execution_count": null,
      "metadata": {
        "id": "C4n1soeTYuzR"
      },
      "outputs": [],
      "source": [
        "# rank1 = [m1_s1, m2_s1, m3_s1, m4_s1, m5_s1]\n",
        "# rank2 = [m1_s2, m2_s2, m3_s2, m4_s2, m5_s2]\n",
        "# rank3 = [m1_s3, m2_s3, m3_s3, m4_s3, m5_s3]"
      ]
    },
    {
      "cell_type": "code",
      "execution_count": null,
      "metadata": {
        "id": "MIA1MDCMYuza"
      },
      "outputs": [],
      "source": [
        "# for r in [rank1, rank2, rank3]:\n",
        "#     ktd = np.zeros((len(r), len(r)))\n",
        "#     for i in range(len(r)):\n",
        "#         for j in range(i, len(r)):\n",
        "#             ktd[i, j] = normalised_kendall_tau_distance(r[i], r[j])\n",
        "#             if i != j:\n",
        "#                 ktd[j, i] = ktd[i, j]\n",
        "#             else:\n",
        "#                 ktd[j, i] = 0\n",
        "#     print(\"KDT indexes: \\n\", ktd)\n"
      ]
    },
    {
      "cell_type": "markdown",
      "source": [
        "# Scenario weight from AHP"
      ],
      "metadata": {
        "id": "M7Bf6jIVH60P"
      }
    },
    {
      "cell_type": "code",
      "execution_count": null,
      "metadata": {
        "id": "HQ7HjjaWdY1p"
      },
      "outputs": [],
      "source": [
        "scenarios_weights = [0.6851, 0.1790, 0.1360]    # Calculated with AHP"
      ]
    },
    {
      "cell_type": "markdown",
      "source": [
        "## Aggregation"
      ],
      "metadata": {
        "id": "Y7DHCCXxITxe"
      }
    },
    {
      "cell_type": "code",
      "source": [
        "N = 80      # Number of alternatives\n",
        "K = 3       # Number of scenarios"
      ],
      "metadata": {
        "id": "J1RRKksnIXDV"
      },
      "execution_count": null,
      "outputs": []
    },
    {
      "cell_type": "code",
      "execution_count": null,
      "metadata": {
        "colab": {
          "base_uri": "https://localhost:8080/"
        },
        "outputId": "c6330e72-48dd-4aa7-f719-576fa643655a",
        "id": "DknWb7awIXDW"
      },
      "outputs": [
        {
          "output_type": "stream",
          "name": "stdout",
          "text": [
            "Aggregated rankings: [44.98752896 20.48995153 33.41048925 17.70741838 24.66882298 12.75767647\n",
            " 19.24431769 26.52099522 23.79173028 38.00700401 16.4185265  19.74179388\n",
            " 30.96705336 50.4040225  57.66815609 57.83037473 19.89355351 33.32835729\n",
            " 45.78488442 46.60004363 57.20583047 49.011899   28.87467245 42.33684827\n",
            " 24.53718908 36.02373347 14.64265885 39.67359537 48.7335716  28.18308129\n",
            " 48.09185119 51.17899539 60.32686765 20.93862243 48.55684314 40.61318768\n",
            " 63.96394289 63.33156772 63.25465552 33.50102742 26.45437382 62.57013401\n",
            " 56.80462119 55.80199379 65.7693379  52.8910169  40.13401042 42.81620485\n",
            " 53.48598461 40.09352889 44.71809902 48.61809197 44.281754   36.23220632\n",
            " 16.97648273 41.7313532  45.44793017 52.96164658 63.33846956 41.25978601\n",
            " 28.93596936 46.54331285 57.85969378 22.89769557 18.1606254  15.36327408\n",
            " 64.03509077 38.99890145 26.52492164 33.47467357 32.77599045 52.70113008\n",
            " 49.23780207 66.39718466 26.85907694 60.44985377 60.96834555 27.12714839\n",
            " 46.4842167  28.89466142]\n"
          ]
        }
      ],
      "source": [
        "# Agregação dos rankings\n",
        "x_agg = np.zeros(N)\n",
        "for i in range(N):\n",
        "    for k in range(K):\n",
        "        for p in range(M):\n",
        "            x_agg[i] += scenarios_weights[k] * mcdm_weights[k][p] * mcdm_rankings[k][p][i]\n",
        "print(\"Aggregated rankings:\", x_agg)"
      ]
    },
    {
      "cell_type": "code",
      "source": [
        "# Ranking scores\n",
        "sorted_indices = np.argsort(x_agg) + 1\n",
        "\n",
        "print(\"Index of the alternatives by preference:\", sorted_indices)\n",
        "print(\"Best alternative is:\", sorted_indices[0])"
      ],
      "metadata": {
        "colab": {
          "base_uri": "https://localhost:8080/"
        },
        "id": "0tp148c8twfD",
        "outputId": "bba0ee0d-ca45-4cde-ad0f-374bd8689c53"
      },
      "execution_count": null,
      "outputs": [
        {
          "output_type": "stream",
          "name": "stdout",
          "text": [
            "Index of the alternatives by preference: [ 6 27 66 11 55  4 65  7 12 17  2 34 64  9 25  5 41  8 69 75 78 30 23 80\n",
            " 61 13 71 18  3 70 40 26 54 10 68 28 50 47 36 60 56 24 48 53 51  1 57 19\n",
            " 79 62 20 31 35 52 29 22 73 14 32 72 46 58 49 44 43 21 15 16 63 33 76 77\n",
            " 42 39 38 59 37 67 45 74]\n",
            "Best alternative is: 6\n"
          ]
        }
      ]
    },
    {
      "cell_type": "markdown",
      "source": [
        "# Scenario weight: equal importance"
      ],
      "metadata": {
        "id": "adNRJ3I9PFoL"
      }
    },
    {
      "cell_type": "code",
      "source": [
        "scenarios_weights = [1/3] * 3"
      ],
      "metadata": {
        "id": "wlFS-r_izIpc"
      },
      "execution_count": null,
      "outputs": []
    },
    {
      "cell_type": "code",
      "source": [
        "N = 80      # Number of alternatives\n",
        "K = 3       # Number of scenarios"
      ],
      "metadata": {
        "id": "JYQjhtFzPOPl"
      },
      "execution_count": null,
      "outputs": []
    },
    {
      "cell_type": "code",
      "source": [
        "# Agregação dos rankings\n",
        "x_agg = np.zeros(N)\n",
        "for i in range(N):\n",
        "    for k in range(K):\n",
        "        for p in range(M):\n",
        "            x_agg[i] += scenarios_weights[k] * mcdm_weights[k][p] * mcdm_rankings[k][p][i]\n",
        "\n",
        "# Ranking scores\n",
        "sorted_indices = np.argsort(x_agg) + 1\n",
        "print(sorted_indices)"
      ],
      "metadata": {
        "colab": {
          "base_uri": "https://localhost:8080/"
        },
        "id": "WUYn2zVvPOXy",
        "outputId": "7e0cef20-9fe8-4b60-bcef-eb1600f4fc6b"
      },
      "execution_count": null,
      "outputs": [
        {
          "output_type": "stream",
          "name": "stdout",
          "text": [
            "[ 6 27  4 66 55  7 11  2 65 17 34 12 47 25 36 69  5 61 64 78 28  9 75 23\n",
            " 30 80  8 41 13  3 70 57 54 18 40 19 71 49 52 46 31 22 26 20 72 68 10 43\n",
            " 60 73 44 50 48 14 24 58 56 29 32 53 15 63  1 16 35 51 21 76 79 62 38 77\n",
            " 59 39 33 45 67 37 74 42]\n"
          ]
        }
      ]
    },
    {
      "cell_type": "markdown",
      "source": [
        "# Scenario weight: much importance to S2"
      ],
      "metadata": {
        "id": "nqJQY_IpPxVe"
      }
    },
    {
      "cell_type": "code",
      "source": [
        "scenarios_weights = [0.15, 0.7, 0.15]\n",
        "\n",
        "# Agregação dos rankings\n",
        "x_agg = np.zeros(N)\n",
        "for i in range(N):\n",
        "    for k in range(K):\n",
        "        for p in range(M):\n",
        "            x_agg[i] += scenarios_weights[k] * mcdm_weights[k][p] * mcdm_rankings[k][p][i]\n",
        "\n",
        "# Ranking scores\n",
        "sorted_indices = np.argsort(x_agg) + 1\n",
        "print(sorted_indices)"
      ],
      "metadata": {
        "colab": {
          "base_uri": "https://localhost:8080/"
        },
        "id": "n0NFMsi9PnxV",
        "outputId": "be75e91e-2623-4870-d421-908b478c71e6"
      },
      "execution_count": null,
      "outputs": [
        {
          "output_type": "stream",
          "name": "stdout",
          "text": [
            "[ 6 27 55 47 66  4 36  7 17 65 34 28  2 46 23 43 22 44 69  5 49 19 78 25\n",
            " 11 61 41 72 31 80 57 13 75 40 52  3 73 15 70 76 18 14 54 32 12 16 64 38\n",
            " 39 30 63 77 59 21 45  9  8 68 60 20 35 71 58 56 51 29 33 37 50  1 62 26\n",
            " 48 53 24 79 10 67 74 42]\n"
          ]
        }
      ]
    },
    {
      "cell_type": "markdown",
      "source": [
        "# Scenario weight: much importance to S3"
      ],
      "metadata": {
        "id": "i82_cGzQP7JY"
      }
    },
    {
      "cell_type": "code",
      "source": [
        "scenarios_weights = [0.15, 0.15, 0.7]\n",
        "\n",
        "# Agregação dos rankings\n",
        "x_agg = np.zeros(N)\n",
        "for i in range(N):\n",
        "    for k in range(K):\n",
        "        for p in range(M):\n",
        "            x_agg[i] += scenarios_weights[k] * mcdm_weights[k][p] * mcdm_rankings[k][p][i]\n",
        "\n",
        "# Ranking scores\n",
        "sorted_indices = np.argsort(x_agg) + 1\n",
        "print(sorted_indices)"
      ],
      "metadata": {
        "colab": {
          "base_uri": "https://localhost:8080/"
        },
        "id": "YpJpxsilPOd9",
        "outputId": "1a6c853d-1247-4dc5-f47a-bb50898a1abd"
      },
      "execution_count": null,
      "outputs": [
        {
          "output_type": "stream",
          "name": "stdout",
          "text": [
            "[27  6 11  4 12 36  2 47  7  9 66 28 64 30  8 65 25 61 55 69 17 20 75 78\n",
            " 34 57 80  5 26  3 52 70 49 23 71 10 54 13 58 19 31 46 41 72 18 24 22 48\n",
            " 60 68 40 50 43 63 73 29 53 14 56 44 16 15  1 21 32 79 35 38 59 74 76 33\n",
            " 51 67 77 45 62 39 37 42]\n"
          ]
        }
      ]
    },
    {
      "cell_type": "code",
      "source": [],
      "metadata": {
        "id": "sQbUArSuPOqL"
      },
      "execution_count": null,
      "outputs": []
    },
    {
      "cell_type": "markdown",
      "metadata": {
        "id": "Nf3mOQ7H8xdQ"
      },
      "source": [
        "# Decision problem: https://doi.org/10.1016/j.rser.2018.05.007"
      ]
    },
    {
      "cell_type": "code",
      "execution_count": null,
      "metadata": {
        "id": "K1YuqnTgN4YI"
      },
      "outputs": [],
      "source": [
        "pop = np.array([\n",
        "    # 'Investiment cost', 'O&M', 'Electric cost', 'Efficiency', 'Capacity factor', 'Technical maturity', \\\\\n",
        "    # 'GHG emission', Land use, Job creation, Social acceptance\n",
        "    # Source: https://doi.org/10.1016/j.rser.2018.05.007 (Table 6)\n",
        "    [4550, 3005, 2040, 3370, 3920],\n",
        "    [30, 60.86, 14.85, 99.4, 112.6],\n",
        "    [6.74, 2.4, 1.7, 3.25, 4.93],\n",
        "    [20, 35, 90, 25.3, 11.4],\n",
        "    [15, 27, 25, 54, 71.7],\n",
        "    [5, 4, 5, 3, 2],\n",
        "    [85, 26, 26, 45, 50],\n",
        "    [150, 200, 500, 222, 100],\n",
        "    [0.87, 0.17, 0.27, 0.21, 0.25],\n",
        "    [4.76, 4.51, 4.19, 3.78, 4.11]\n",
        "])\n",
        "\n",
        "# Convertendo o dicionário para um array NumPy\n",
        "pop = pop.T\n",
        "\n",
        "# Cost benefit criteria\n",
        "cb = ['min', 'min', 'min', 'max', 'max', 'max', 'min', 'min', 'max', 'max']\n",
        "\n",
        "# Weights paper\n",
        "weights = [0.026, 0.154, 0.089, 0.199, 0.115, 0.039, 0.080, 0.123, 0.172, 0.003]\n",
        "\n",
        "# Scenario 1: every dimension is treated as equally important\n",
        "weights_s1 = [0.08333, 0.08333, 0.08333, 0.08333, 0.08333, 0.08333, 0.125, 0.125, 0.125, 0.125]\n",
        "\n",
        "# Scenario 2: focus on financial dimension\n",
        "weights_s2 = [0.1666, 0.1666, 0.1666, 0.0556, 0.0556, 0.0556, 0.0835, 0.0835, 0.0835, 0.0835]\n",
        "\n",
        "# Scenario 3: focus on technical dimension\n",
        "weights_s3 = [0.0556, 0.0556, 0.0556, 0.1666, 0.1666, 0.1666, 0.0835, 0.0835, 0.0835, 0.0835]\n",
        "\n",
        "mcdm_weights = [weights_s1, weights_s2, weights_s3]"
      ]
    },
    {
      "cell_type": "markdown",
      "metadata": {
        "id": "PstMOLHe81_L"
      },
      "source": [
        "# MCDM"
      ]
    },
    {
      "cell_type": "code",
      "execution_count": null,
      "metadata": {
        "id": "cm7PX-zS7Ob8"
      },
      "outputs": [],
      "source": [
        "# You need to run this line twice due to some error\n",
        "from pyDecision.algorithm import waspas_method, topsis_method, todim_method, vikor_method, ranking"
      ]
    },
    {
      "cell_type": "code",
      "execution_count": null,
      "metadata": {
        "id": "cNSYYy8sLU0E"
      },
      "outputs": [],
      "source": [
        "# M1: AHP\n",
        "def ahp(decision_matrix, weights_vector, cb=False):\n",
        "    # NDM\n",
        "    normalized_matrix = decision_matrix / decision_matrix.sum(axis=0)\n",
        "\n",
        "    # AHP scores\n",
        "    ahp_scores = np.dot(normalized_matrix, weights_vector)\n",
        "\n",
        "    return (-ahp_scores).argsort() + 1"
      ]
    },
    {
      "cell_type": "code",
      "execution_count": null,
      "metadata": {
        "id": "GCLXzYKsAI31"
      },
      "outputs": [],
      "source": [
        "# M2: TODIM\n",
        "def todim(pop, cb, weights):\n",
        "    global_dominance = todim_method(pop, cb, weights, teta = 1, graph = False, verbose = False)\n",
        "    return (-global_dominance).argsort() + 1"
      ]
    },
    {
      "cell_type": "code",
      "execution_count": null,
      "metadata": {
        "id": "9a5CZgKvAFkv"
      },
      "outputs": [],
      "source": [
        "# M3: TOPSIS\n",
        "def topsis(pop, cb, weights):\n",
        "    Cj = topsis_method(pop, weights, cb, graph = False, verbose = False)\n",
        "    return Cj.argsort()[::-1] + 1  # Ranking in descending order of CCi"
      ]
    },
    {
      "cell_type": "code",
      "execution_count": null,
      "metadata": {
        "id": "yU8UI5yNAWk2"
      },
      "outputs": [],
      "source": [
        "# M4: VIKOR\n",
        "def vikor(pop, cb, weights):\n",
        "    _, _, q, _ = vikor_method(pop, weights, cb, 0.5, graph = False, verbose=False)\n",
        "    return q[:, 0].astype(int)"
      ]
    },
    {
      "cell_type": "code",
      "execution_count": null,
      "metadata": {
        "id": "l4gSM8fp7TH8"
      },
      "outputs": [],
      "source": [
        "# M5: WSM, WPM, and WASPAS\n",
        "def waspas(pop, cb, weights):\n",
        "    _, _, waspas = waspas_method(pop, cb, weights, 0.5, graph = False)\n",
        "    return (-waspas).argsort() + 1"
      ]
    },
    {
      "cell_type": "code",
      "execution_count": null,
      "metadata": {
        "colab": {
          "base_uri": "https://localhost:8080/"
        },
        "id": "aDt6z4o6S4--",
        "outputId": "efb61858-1285-4a39-da0c-9faf8b302640"
      },
      "outputs": [
        {
          "output_type": "stream",
          "name": "stdout",
          "text": [
            "Rank AHP:  [1 3 5 4 2]\n",
            "Rank TODIM:  [3 2 1 4 5]\n",
            "Rank TOPSIS:  [1 3 2 5 4]\n",
            "Rank VIKOR:  [5 3 2 1 4]\n",
            "Rank WASPAS:  [3 2 1 4 5]\n"
          ]
        }
      ],
      "source": [
        "# MCDM rankings S1\n",
        "rank_ahp_s1 = ahp(pop, weights_s1)\n",
        "rank_todim_s1 = todim(pop, cb, weights_s1)\n",
        "rank_topsis_s1 = topsis(pop, cb, weights_s1)\n",
        "rank_vikor_s1 = vikor(pop, cb, weights_s1)\n",
        "rank_waspas_s1 = waspas(pop, cb, weights_s1)\n",
        "\n",
        "print('Rank AHP: ', rank_ahp_s1)\n",
        "print('Rank TODIM: ', rank_todim_s1)\n",
        "print('Rank TOPSIS: ', rank_topsis_s1)\n",
        "print('Rank VIKOR: ', rank_vikor_s1)\n",
        "print('Rank WASPAS: ', rank_waspas_s1)"
      ]
    },
    {
      "cell_type": "code",
      "source": [
        "# MCDM rankings S2\n",
        "rank_ahp_s2 = ahp(pop, weights_s2)\n",
        "rank_todim_s2 = todim(pop, cb, weights_s2)\n",
        "rank_topsis_s2 = topsis(pop, cb, weights_s2)\n",
        "rank_vikor_s2 = vikor(pop, cb, weights_s2)\n",
        "rank_waspas_s2 = waspas(pop, cb, weights_s2)\n",
        "\n",
        "print('Rank AHP: ', rank_ahp_s2)\n",
        "print('Rank TODIM: ', rank_todim_s2)\n",
        "print('Rank TOPSIS: ', rank_topsis_s2)\n",
        "print('Rank VIKOR: ', rank_vikor_s2)\n",
        "print('Rank WASPAS: ', rank_waspas_s2)"
      ],
      "metadata": {
        "colab": {
          "base_uri": "https://localhost:8080/"
        },
        "id": "Y8BdwXIOajZ5",
        "outputId": "6a90a9cc-2b93-4ebd-c682-92b35ca52aa2"
      },
      "execution_count": null,
      "outputs": [
        {
          "output_type": "stream",
          "name": "stdout",
          "text": [
            "Rank AHP:  [1 5 4 3 2]\n",
            "Rank TODIM:  [3 2 1 4 5]\n",
            "Rank TOPSIS:  [3 2 1 4 5]\n",
            "Rank VIKOR:  [3 2 4 1 5]\n",
            "Rank WASPAS:  [3 2 1 4 5]\n"
          ]
        }
      ]
    },
    {
      "cell_type": "code",
      "source": [
        "# MCDM rankings S3\n",
        "rank_ahp_s3 = ahp(pop, weights_s3)\n",
        "rank_todim_s3 = todim(pop, cb, weights_s3)\n",
        "rank_topsis_s3 = topsis(pop, cb, weights_s3)\n",
        "rank_vikor_s3 = vikor(pop, cb, weights_s3)\n",
        "rank_waspas_s3 = waspas(pop, cb, weights_s3)\n",
        "\n",
        "print('Rank AHP: ', rank_ahp_s3)\n",
        "print('Rank TODIM: ', rank_todim_s3)\n",
        "print('Rank TOPSIS: ', rank_topsis_s3)\n",
        "print('Rank VIKOR: ', rank_vikor_s3)\n",
        "print('Rank WASPAS: ', rank_waspas_s3)"
      ],
      "metadata": {
        "colab": {
          "base_uri": "https://localhost:8080/"
        },
        "id": "D2azF_NAauJp",
        "outputId": "ac51fb02-1bf9-4bb9-9531-6b3546cd76b0"
      },
      "execution_count": null,
      "outputs": [
        {
          "output_type": "stream",
          "name": "stdout",
          "text": [
            "Rank AHP:  [3 1 4 5 2]\n",
            "Rank TODIM:  [3 2 1 4 5]\n",
            "Rank TOPSIS:  [3 5 4 2 1]\n",
            "Rank VIKOR:  [3 2 4 1 5]\n",
            "Rank WASPAS:  [3 2 1 4 5]\n"
          ]
        }
      ]
    },
    {
      "cell_type": "markdown",
      "metadata": {
        "id": "TWmObW4ZKeco"
      },
      "source": [
        "# MCDM weights"
      ]
    },
    {
      "cell_type": "code",
      "source": [
        "M = 5"
      ],
      "metadata": {
        "id": "XOB-x1YhldVS"
      },
      "execution_count": null,
      "outputs": []
    },
    {
      "cell_type": "code",
      "source": [
        "list_of_rankings_s1 = np.array([\n",
        "    [1, 3, 5, 4, 2],        #m1s1\n",
        "    [3, 2, 1, 4, 5],        #m2s1\n",
        "    [1, 3, 2, 5, 4],        #m3s1\n",
        "    [5, 3, 2, 1, 4],        #m4s1\n",
        "    [3, 2, 1, 4, 5]         #m5s1\n",
        "])"
      ],
      "metadata": {
        "id": "6Zvag1ajbGZT"
      },
      "execution_count": null,
      "outputs": []
    },
    {
      "cell_type": "code",
      "source": [
        "list_of_rankings_s2 =  np.array([\n",
        "    [1, 5, 4, 3, 2],        #m1s2\n",
        "    [3, 2, 1, 4, 5],        #m2s2\n",
        "    [3, 2, 1, 4, 5],        #m3s2\n",
        "    [3, 2, 4, 1, 5],        #m4s2\n",
        "    [3, 2, 1, 4, 5]         #m5s2\n",
        "])"
      ],
      "metadata": {
        "id": "oNz4QODEbGhv"
      },
      "execution_count": null,
      "outputs": []
    },
    {
      "cell_type": "code",
      "source": [
        "list_of_rankings_s3 =  np.array([\n",
        "    [3, 1, 4, 5, 2],        #m1s3\n",
        "    [3, 2, 1, 4, 5],        #m2s3\n",
        "    [3, 5, 4, 2, 1],        #m3s3\n",
        "    [3, 2, 4, 1, 5],        #m4s3\n",
        "    [3, 2, 1, 4, 5]         #m5s3\n",
        "])"
      ],
      "metadata": {
        "id": "eSBsW2bybGk1"
      },
      "execution_count": null,
      "outputs": []
    },
    {
      "cell_type": "code",
      "source": [
        "# Rankings combinados em uma lista para simplificar o acesso\n",
        "mcdm_rankings = [list_of_rankings_s1, list_of_rankings_s2, list_of_rankings_s3]\n",
        "mcdm_rankings"
      ],
      "metadata": {
        "colab": {
          "base_uri": "https://localhost:8080/"
        },
        "id": "b2Vc3rK_g6hY",
        "outputId": "263d3088-6175-4af9-a177-47f0d5147786"
      },
      "execution_count": null,
      "outputs": [
        {
          "output_type": "execute_result",
          "data": {
            "text/plain": [
              "[array([[1, 3, 5, 4, 2],\n",
              "        [3, 2, 1, 4, 5],\n",
              "        [1, 3, 2, 5, 4],\n",
              "        [5, 3, 2, 1, 4],\n",
              "        [3, 2, 1, 4, 5]]),\n",
              " array([[1, 5, 4, 3, 2],\n",
              "        [3, 2, 1, 4, 5],\n",
              "        [3, 2, 1, 4, 5],\n",
              "        [3, 2, 4, 1, 5],\n",
              "        [3, 2, 1, 4, 5]]),\n",
              " array([[3, 1, 4, 5, 2],\n",
              "        [3, 2, 1, 4, 5],\n",
              "        [3, 5, 4, 2, 1],\n",
              "        [3, 2, 4, 1, 5],\n",
              "        [3, 2, 1, 4, 5]])]"
            ]
          },
          "metadata": {},
          "execution_count": 47
        }
      ]
    },
    {
      "cell_type": "code",
      "execution_count": null,
      "metadata": {
        "id": "Xyq2C1R3LLYl",
        "colab": {
          "base_uri": "https://localhost:8080/"
        },
        "outputId": "0897ab6f-c153-4c87-c7cb-727a10bd7e5a"
      },
      "outputs": [
        {
          "output_type": "stream",
          "name": "stdout",
          "text": [
            "MCDM weights S1:  [0.16432584 0.23279494 0.21488764 0.15519663 0.23279494]\n",
            "MCDM weights S2:  [0.06891151 0.24980423 0.24980423 0.1816758  0.24980423]\n",
            "MCDM weights S3:  [0.1590106  0.24734982 0.12367491 0.22261484 0.24734982]\n"
          ]
        }
      ],
      "source": [
        "# S1\n",
        "list_mcdm_s1 = [rank_ahp_s1, rank_todim_s1, rank_topsis_s1, rank_vikor_s1, rank_waspas_s1]\n",
        "w_mcdm_s1 = compute_mcdm_weights(list_mcdm_s1)\n",
        "print(\"MCDM weights S1: \", w_mcdm_s1)\n",
        "\n",
        "# S2\n",
        "list_mcdm_s2 = [rank_ahp_s2, rank_todim_s2, rank_topsis_s2, rank_vikor_s2, rank_waspas_s2]\n",
        "w_mcdm_s2 = compute_mcdm_weights(list_mcdm_s2)\n",
        "print(\"MCDM weights S2: \", w_mcdm_s2)\n",
        "\n",
        "# S3\n",
        "list_mcdm_s3 = [rank_ahp_s3, rank_todim_s3, rank_topsis_s3, rank_vikor_s3, rank_waspas_s3]\n",
        "w_mcdm_s3 = compute_mcdm_weights(list_mcdm_s3)\n",
        "print(\"MCDM weights S3: \", w_mcdm_s3)\n",
        "\n",
        "# Nominal\n",
        "list_mcdm_nominal = []"
      ]
    },
    {
      "cell_type": "code",
      "source": [
        "mcdm_weights = [w_mcdm_s1, w_mcdm_s2, w_mcdm_s3]\n",
        "mcdm_weights"
      ],
      "metadata": {
        "colab": {
          "base_uri": "https://localhost:8080/"
        },
        "id": "yzvGTmOFkuzs",
        "outputId": "bdd73a77-80e9-4fca-e52b-ee8537431def"
      },
      "execution_count": null,
      "outputs": [
        {
          "output_type": "execute_result",
          "data": {
            "text/plain": [
              "[array([0.16432584, 0.23279494, 0.21488764, 0.15519663, 0.23279494]),\n",
              " array([0.06891151, 0.24980423, 0.24980423, 0.1816758 , 0.24980423]),\n",
              " array([0.1590106 , 0.24734982, 0.12367491, 0.22261484, 0.24734982])]"
            ]
          },
          "metadata": {},
          "execution_count": 49
        }
      ]
    },
    {
      "cell_type": "markdown",
      "metadata": {
        "id": "RbLpWSWKa5wk"
      },
      "source": [
        "# Aggregation"
      ]
    },
    {
      "cell_type": "code",
      "source": [
        "scenarios_weights = [1/3] * 3\n",
        "K = len(scenarios_weights)"
      ],
      "metadata": {
        "id": "oXGifOGicy1E"
      },
      "execution_count": null,
      "outputs": []
    },
    {
      "cell_type": "code",
      "source": [
        "N = 5"
      ],
      "metadata": {
        "id": "2cAuasp7dpDv"
      },
      "execution_count": null,
      "outputs": []
    },
    {
      "cell_type": "code",
      "execution_count": null,
      "metadata": {
        "colab": {
          "base_uri": "https://localhost:8080/"
        },
        "id": "iSNP0-5iYrmo",
        "outputId": "9d963405-8df7-4976-fb2b-d64d7ea07817"
      },
      "outputs": [
        {
          "output_type": "stream",
          "name": "stdout",
          "text": [
            "Aggregated rankings: [2.80471442 2.31771959 2.09835021 3.45972503 4.31949074]\n"
          ]
        }
      ],
      "source": [
        "# Agregattion process\n",
        "x_agg = np.zeros(N)\n",
        "\n",
        "for i in range(N):\n",
        "    for k in range(K):\n",
        "        for p in range(M):\n",
        "            x_agg[i] += scenarios_weights[k] * mcdm_weights[k][p] * mcdm_rankings[k][p][i]\n",
        "\n",
        "print(\"Aggregated rankings:\", x_agg)"
      ]
    },
    {
      "cell_type": "code",
      "execution_count": null,
      "metadata": {
        "id": "jvv7GvYTauyw",
        "colab": {
          "base_uri": "https://localhost:8080/"
        },
        "outputId": "1313a651-5790-4425-9d4c-658516bf8b92"
      },
      "outputs": [
        {
          "output_type": "stream",
          "name": "stdout",
          "text": [
            "Sorted aggregated rankings: [3 2 1 4 5]\n"
          ]
        }
      ],
      "source": [
        "sorted_x_agg = np.argsort(x_agg) + 1\n",
        "print(\"Sorted aggregated rankings:\", sorted_x_agg)"
      ]
    },
    {
      "cell_type": "markdown",
      "source": [
        "# Simulations\n",
        "\n",
        "*   1: extreme importance to S1\n",
        "*   2: extreme importance to S2\n",
        "*   3: extreme importance to S3\n",
        "*   4: equal importance to scenarios and maximum for mcdm M1\n",
        "*   5: equal importance to scenarios and maximum for mcdm M5"
      ],
      "metadata": {
        "id": "NLPzDjJKTc1C"
      }
    },
    {
      "cell_type": "code",
      "source": [
        "mcdm_weights = [w_mcdm_s1, w_mcdm_s2, w_mcdm_s3]\n",
        "mcdm_weights"
      ],
      "metadata": {
        "colab": {
          "base_uri": "https://localhost:8080/"
        },
        "id": "1pjVss-xG_Yc",
        "outputId": "194ea839-f890-4b0c-d82f-c2ad87b5c10e"
      },
      "execution_count": null,
      "outputs": [
        {
          "output_type": "execute_result",
          "data": {
            "text/plain": [
              "[array([0.16432584, 0.23279494, 0.21488764, 0.15519663, 0.23279494]),\n",
              " array([0.06891151, 0.24980423, 0.24980423, 0.1816758 , 0.24980423]),\n",
              " array([0.1590106 , 0.24734982, 0.12367491, 0.22261484, 0.24734982])]"
            ]
          },
          "metadata": {},
          "execution_count": 54
        }
      ]
    },
    {
      "cell_type": "code",
      "execution_count": null,
      "metadata": {
        "id": "ZGndyffgau2F",
        "colab": {
          "base_uri": "https://localhost:8080/"
        },
        "outputId": "fd508ff8-2a15-45b5-f556-ad9b7b8e177b"
      },
      "outputs": [
        {
          "output_type": "stream",
          "name": "stdout",
          "text": [
            "Sorted aggregated rankings: [3 2 1 4 5]\n"
          ]
        }
      ],
      "source": [
        "# Simulation 1\n",
        "scenarios_weights = [1, 0, 0]\n",
        "\n",
        "# Agregattion process\n",
        "x_agg = np.zeros(N)\n",
        "\n",
        "for i in range(N):\n",
        "    for k in range(K):\n",
        "        for p in range(M):\n",
        "            x_agg[i] += scenarios_weights[k] * mcdm_weights[k][p] * mcdm_rankings[k][p][i]\n",
        "\n",
        "sorted_x_agg = np.argsort(x_agg) + 1\n",
        "print(\"Sorted aggregated rankings:\", sorted_x_agg)"
      ]
    },
    {
      "cell_type": "code",
      "execution_count": null,
      "metadata": {
        "id": "MpojjlZBYrsk",
        "colab": {
          "base_uri": "https://localhost:8080/"
        },
        "outputId": "c14f58b6-f767-4cfa-9d27-1ffee0a9474f"
      },
      "outputs": [
        {
          "output_type": "stream",
          "name": "stdout",
          "text": [
            "Sorted aggregated rankings: [3 2 1 4 5]\n"
          ]
        }
      ],
      "source": [
        "# Simulation 2\n",
        "scenarios_weights = [0, 1, 0]\n",
        "\n",
        "# Agregattion process\n",
        "x_agg = np.zeros(N)\n",
        "\n",
        "for i in range(N):\n",
        "    for k in range(K):\n",
        "        for p in range(M):\n",
        "            x_agg[i] += scenarios_weights[k] * mcdm_weights[k][p] * mcdm_rankings[k][p][i]\n",
        "\n",
        "sorted_x_agg = np.argsort(x_agg) + 1\n",
        "print(\"Sorted aggregated rankings:\", sorted_x_agg)"
      ]
    },
    {
      "cell_type": "code",
      "execution_count": null,
      "metadata": {
        "id": "5jJWx-BmYr02",
        "colab": {
          "base_uri": "https://localhost:8080/"
        },
        "outputId": "a7f8c29c-fec1-4b21-8b8e-4885c37773dd"
      },
      "outputs": [
        {
          "output_type": "stream",
          "name": "stdout",
          "text": [
            "Sorted aggregated rankings: [2 3 1 4 5]\n"
          ]
        }
      ],
      "source": [
        "# Simulation 3\n",
        "scenarios_weights = [0, 0, 1]\n",
        "\n",
        "# Agregattion process\n",
        "x_agg = np.zeros(N)\n",
        "\n",
        "for i in range(N):\n",
        "    for k in range(K):\n",
        "        for p in range(M):\n",
        "            x_agg[i] += scenarios_weights[k] * mcdm_weights[k][p] * mcdm_rankings[k][p][i]\n",
        "\n",
        "sorted_x_agg = np.argsort(x_agg) + 1\n",
        "print(\"Sorted aggregated rankings:\", sorted_x_agg)"
      ]
    },
    {
      "cell_type": "code",
      "execution_count": null,
      "metadata": {
        "id": "e-NS1cinSl_E",
        "colab": {
          "base_uri": "https://localhost:8080/"
        },
        "outputId": "8ffd631a-acbc-48b1-b1b4-fee9497abeba"
      },
      "outputs": [
        {
          "output_type": "stream",
          "name": "stdout",
          "text": [
            "Sorted aggregated rankings: [1 5 2 4 3]\n"
          ]
        }
      ],
      "source": [
        "# Simulation 4\n",
        "mcdm_weights = np.array([[1, 0, 0, 0, 0], [1, 0, 0, 0, 0], [1, 0, 0, 0, 0]])\n",
        "scenarios_weights = [1, 1, 1]\n",
        "# Agregattion process\n",
        "x_agg = np.zeros(N)\n",
        "\n",
        "for i in range(N):\n",
        "    for k in range(K):\n",
        "        for p in range(M):\n",
        "            x_agg[i] += scenarios_weights[k] * mcdm_weights[k][p] * mcdm_rankings[k][p][i]\n",
        "\n",
        "sorted_x_agg = np.argsort(x_agg) + 1\n",
        "print(\"Sorted aggregated rankings:\", sorted_x_agg)"
      ]
    },
    {
      "cell_type": "code",
      "source": [
        "# Simulation 5\n",
        "mcdm_weights = np.array([[0, 0, 0, 0, 1], [0, 0, 0, 0, 1], [0, 0, 0, 0, 1]])\n",
        "scenarios_weights = [1, 1, 1]\n",
        "\n",
        "# Agregattion process\n",
        "x_agg = np.zeros(N)\n",
        "\n",
        "for i in range(N):\n",
        "    for k in range(K):\n",
        "        for p in range(M):\n",
        "            x_agg[i] += scenarios_weights[k] * mcdm_weights[k][p] * mcdm_rankings[k][p][i]\n",
        "\n",
        "sorted_x_agg = np.argsort(x_agg) + 1\n",
        "print(\"Sorted aggregated rankings:\", sorted_x_agg)"
      ],
      "metadata": {
        "colab": {
          "base_uri": "https://localhost:8080/"
        },
        "id": "8-2rhIi4V5Pl",
        "outputId": "6d98cd12-01a1-4f8e-af9b-3db01aee8479"
      },
      "execution_count": null,
      "outputs": [
        {
          "output_type": "stream",
          "name": "stdout",
          "text": [
            "Sorted aggregated rankings: [3 2 1 4 5]\n"
          ]
        }
      ]
    },
    {
      "cell_type": "code",
      "source": [
        "import numpy as np\n",
        "\n",
        "def normalised_kendall_tau_distance(values1, values2):\n",
        "    \"\"\"Compute the Kendall tau distance.\"\"\"\n",
        "    n = len(values1)\n",
        "    assert len(values2) == n, \"Both lists have to be of equal length\"\n",
        "    i, j = np.meshgrid(np.arange(n), np.arange(n))\n",
        "    a = np.argsort(values1)\n",
        "    b = np.argsort(values2)\n",
        "    ndisordered = np.logical_or(np.logical_and(a[i] < a[j], b[i] > b[j]), np.logical_and(a[i] > a[j], b[i] < b[j])).sum()\n",
        "    return ndisordered / (n * (n - 1))"
      ],
      "metadata": {
        "id": "EWBY5vT6WHEN"
      },
      "execution_count": null,
      "outputs": []
    },
    {
      "cell_type": "code",
      "source": [
        "normalised_kendall_tau_distance([3, 2, 1, 4, 5], [2, 3, 1, 4, 5])"
      ],
      "metadata": {
        "colab": {
          "base_uri": "https://localhost:8080/"
        },
        "id": "2nxII99S9XYS",
        "outputId": "9c97f4d4-6910-491e-ebd3-53c0d7876d52"
      },
      "execution_count": null,
      "outputs": [
        {
          "output_type": "execute_result",
          "data": {
            "text/plain": [
              "0.1"
            ]
          },
          "metadata": {},
          "execution_count": 39
        }
      ]
    },
    {
      "cell_type": "code",
      "source": [
        "normalised_kendall_tau_distance([3, 2, 1, 4, 5], [3, 2, 1, 4, 5])"
      ],
      "metadata": {
        "colab": {
          "base_uri": "https://localhost:8080/"
        },
        "id": "F_bmxhV19Xbw",
        "outputId": "fdd7ebce-1bfd-4f96-87da-582302d27323"
      },
      "execution_count": null,
      "outputs": [
        {
          "output_type": "execute_result",
          "data": {
            "text/plain": [
              "0.0"
            ]
          },
          "metadata": {},
          "execution_count": 40
        }
      ]
    },
    {
      "cell_type": "code",
      "source": [
        "normalised_kendall_tau_distance([1, 5, 2, 4, 3], [3, 2, 1, 4, 5])"
      ],
      "metadata": {
        "colab": {
          "base_uri": "https://localhost:8080/"
        },
        "id": "DV3AIrYQD5nF",
        "outputId": "c32c7aa2-50b5-4bbb-f91b-c40bd2d787a3"
      },
      "execution_count": null,
      "outputs": [
        {
          "output_type": "execute_result",
          "data": {
            "text/plain": [
              "0.7"
            ]
          },
          "metadata": {},
          "execution_count": 41
        }
      ]
    },
    {
      "cell_type": "code",
      "source": [],
      "metadata": {
        "id": "G1uuqtzwEz9_"
      },
      "execution_count": null,
      "outputs": []
    }
  ],
  "metadata": {
    "colab": {
      "provenance": [],
      "collapsed_sections": [
        "JavNLu368tNX",
        "roiy9pJ6KMN1"
      ]
    },
    "kernelspec": {
      "display_name": "Python 3",
      "name": "python3"
    },
    "language_info": {
      "name": "python"
    }
  },
  "nbformat": 4,
  "nbformat_minor": 0
}